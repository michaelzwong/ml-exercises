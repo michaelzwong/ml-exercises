{
 "cells": [
  {
   "cell_type": "markdown",
   "metadata": {},
   "source": [
    "# Exercise 1: Linear Regression"
   ]
  },
  {
   "cell_type": "code",
   "execution_count": 1,
   "metadata": {},
   "outputs": [],
   "source": [
    "import numpy as np\n",
    "import matplotlib.pyplot as plt\n",
    "import array"
   ]
  },
  {
   "cell_type": "markdown",
   "metadata": {},
   "source": [
    "**warm_up_exercise**"
   ]
  },
  {
   "cell_type": "code",
   "execution_count": 2,
   "metadata": {},
   "outputs": [],
   "source": [
    "def warm_up_exercise():\n",
    "    return(np.identity(5))"
   ]
  },
  {
   "cell_type": "code",
   "execution_count": 3,
   "metadata": {},
   "outputs": [
    {
     "data": {
      "text/plain": [
       "array([[1., 0., 0., 0., 0.],\n",
       "       [0., 1., 0., 0., 0.],\n",
       "       [0., 0., 1., 0., 0.],\n",
       "       [0., 0., 0., 1., 0.],\n",
       "       [0., 0., 0., 0., 1.]])"
      ]
     },
     "execution_count": 3,
     "metadata": {},
     "output_type": "execute_result"
    }
   ],
   "source": [
    "warm_up_exercise()"
   ]
  },
  {
   "cell_type": "markdown",
   "metadata": {},
   "source": [
    "## **Linear Regression with One Variable**"
   ]
  },
  {
   "cell_type": "markdown",
   "metadata": {},
   "source": [
    "**Plotting the Data**"
   ]
  },
  {
   "cell_type": "code",
   "execution_count": 4,
   "metadata": {},
   "outputs": [
    {
     "data": {
      "text/plain": [
       "(97, 2)"
      ]
     },
     "execution_count": 4,
     "metadata": {},
     "output_type": "execute_result"
    }
   ],
   "source": [
    "data_set_one = np.loadtxt('ex1data1.txt', delimiter=',')\n",
    "x_values = np.c_[np.ones(data_set_one.shape[0]), data_set_one[:, :1]]\n",
    "y_values = data_set_one[:, 1:]\n",
    "x_values.shape"
   ]
  },
  {
   "cell_type": "code",
   "execution_count": 5,
   "metadata": {},
   "outputs": [
    {
     "data": {
      "image/png": "[encoded data removed]",
      "text/plain": [
       "<Figure size 432x288 with 1 Axes>"
      ]
     },
     "metadata": {},
     "output_type": "display_data"
    }
   ],
   "source": [
    "plt.xlabel('Population of City in 10,000s')\n",
    "plt.ylabel('Profit in $10,000s')\n",
    "plt.xlim(4,24)\n",
    "plt.ylim(-5,25)\n",
    "plt.xticks(np.arange(4, 25, 2))\n",
    "plt.scatter(x_values[:,1], y_values, marker='x', c='red', s=35, linewidth=0.5)\n",
    "plt.show()"
   ]
  },
  {
   "cell_type": "markdown",
   "metadata": {},
   "source": [
    "**Gradient Descent**"
   ]
  },
  {
   "cell_type": "code",
   "execution_count": 6,
   "metadata": {},
   "outputs": [
    {
     "data": {
      "text/plain": [
       "32.072733877455676"
      ]
     },
     "execution_count": 6,
     "metadata": {},
     "output_type": "execute_result"
    }
   ],
   "source": [
    "def compute_cost(x_values, y_values, theta = [[0],[0]]):\n",
    "    m = len(y_values) # Number of training examples\n",
    "    J = 0\n",
    "    h = x_values.dot(theta) # Hypothesis\n",
    "    J = 1/(2*m) * np.sum(np.square(h - y_values))\n",
    "    return (J)\n",
    "compute_cost(x_values, y_values)"
   ]
  },
  {
   "cell_type": "code",
   "execution_count": 7,
   "metadata": {},
   "outputs": [],
   "source": [
    "def gradient_descent(x_values, y_values, theta = [[0],[0]], num_iterations = 400, alpha=0.0001):\n",
    "    m = len(y_values)\n",
    "    J_history = np.zeros(num_iterations)\n",
    "    \n",
    "    for iteration in range(num_iterations):\n",
    "        h = x_values.dot(theta)\n",
    "        theta = theta - (alpha/m) * x_values.T.dot(h - y_values)\n",
    "        J_history[iteration] = compute_cost(x_values, y_values, theta)\n",
    "    return(theta, J_history)"
   ]
  },
  {
   "cell_type": "code",
   "execution_count": 8,
   "metadata": {
    "scrolled": false
   },
   "outputs": [
    {
     "name": "stdout",
     "output_type": "stream",
     "text": [
      "Theta_zero:  [0.04823541]\n",
      "Theta_one:  [0.76732177]\n"
     ]
    },
    {
     "data": {
      "text/plain": [
       "Text(0,0.5,'Cost J')"
      ]
     },
     "execution_count": 8,
     "metadata": {},
     "output_type": "execute_result"
    },
    {
     "data": {
      "image/png": "[encoded data removed]",
      "text/plain": [
       "<Figure size 432x288 with 1 Axes>"
      ]
     },
     "metadata": {},
     "output_type": "display_data"
    }
   ],
   "source": [
    "theta, cost_j = gradient_descent(x_values, y_values)\n",
    "print('Theta_zero: ', theta[0])\n",
    "print('Theta_one: ', theta[1])\n",
    "\n",
    "plt.plot(cost_j)\n",
    "plt.xlabel('Number of Iterations')\n",
    "plt.ylabel('Cost J')"
   ]
  },
  {
   "cell_type": "code",
   "execution_count": null,
   "metadata": {},
   "outputs": [],
   "source": []
  }
 ],
 "metadata": {
  "kernelspec": {
   "display_name": "Python 3",
   "language": "python",
   "name": "python3"
  },
  "language_info": {
   "codemirror_mode": {
    "name": "ipython",
    "version": 3
   },
   "file_extension": ".py",
   "mimetype": "text/x-python",
   "name": "python",
   "nbconvert_exporter": "python",
   "pygments_lexer": "ipython3",
   "version": "3.6.5"
  }
 },
 "nbformat": 4,
 "nbformat_minor": 2
}
