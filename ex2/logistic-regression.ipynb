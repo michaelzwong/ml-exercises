{
 "cells": [
  {
   "cell_type": "markdown",
   "metadata": {},
   "source": [
    "# Exercise 2: Logistic Regression"
   ]
  },
  {
   "cell_type": "code",
   "execution_count": 1,
   "metadata": {},
   "outputs": [],
   "source": [
    "import numpy as np\n",
    "import matplotlib.pyplot as plt\n",
    "\n",
    "from sklearn.linear_model import LinearRegression\n",
    "from sklearn.linear_model import LogisticRegression\n",
    "from scipy.optimize import minimize"
   ]
  },
  {
   "cell_type": "markdown",
   "metadata": {},
   "source": [
    "**Data Visualization for Two Exam Scores**"
   ]
  },
  {
   "cell_type": "code",
   "execution_count": 2,
   "metadata": {},
   "outputs": [],
   "source": [
    "def load_data():\n",
    "    return (np.loadtxt('ex2data1.txt', delimiter=','))"
   ]
  },
  {
   "cell_type": "code",
   "execution_count": 3,
   "metadata": {},
   "outputs": [],
   "source": [
    "def plot_data(data, x_label, y_label, pos_label, neg_label):\n",
    "    # get a numpy array with indices of admitted student exam scores\n",
    "    admitted_indices = data[:,2] == 1\n",
    "    # get a numpy array with indices of rejected student exam scores\n",
    "    rejected_indices = data[:,2] == 0\n",
    "    \n",
    "    plt.xlabel(x_label)\n",
    "    plt.ylabel(y_label)\n",
    "    plt.scatter(data[admitted_indices][:,0], data[admitted_indices][:,1], marker='+', c='black', s=50, linewidth=2, label=pos_label)\n",
    "    plt.scatter(data[rejected_indices][:,0], data[rejected_indices][:,1], marker='o', c='yellow', s=50, linewidth=2, label=neg_label)\n",
    "    plt.legend(loc=0);\n",
    "    "
   ]
  },
  {
   "cell_type": "code",
   "execution_count": 4,
   "metadata": {},
   "outputs": [
    {
     "data": {
      "image/png": "[encoded data removed]",
      "text/plain": [
       "<Figure size 432x288 with 1 Axes>"
      ]
     },
     "metadata": {},
     "output_type": "display_data"
    }
   ],
   "source": [
    "data_set_one = load_data()\n",
    "plot_data(data_set_one, 'Exam Score One', 'Exam Score Two', 'Admitted', 'Rejected')"
   ]
  },
  {
   "cell_type": "markdown",
   "metadata": {},
   "source": [
    "**Sigmoid Function**\n"
   ]
  },
  {
   "cell_type": "code",
   "execution_count": 5,
   "metadata": {},
   "outputs": [
    {
     "data": {
      "text/plain": [
       "0.5"
      ]
     },
     "execution_count": 5,
     "metadata": {},
     "output_type": "execute_result"
    }
   ],
   "source": [
    "def sigmoid(x):\n",
    "    return 1/(1+np.exp(-x))\n",
    "\n",
    "sigmoid(0)"
   ]
  },
  {
   "cell_type": "markdown",
   "metadata": {},
   "source": [
    "**Cost Function**"
   ]
  },
  {
   "cell_type": "code",
   "execution_count": 6,
   "metadata": {},
   "outputs": [],
   "source": [
    "def compute_cost(theta, x_values, y_values):\n",
    "    # Number of training examples\n",
    "    m = len(y_values)\n",
    "    # Initialize cost as 0\n",
    "    J = 0\n",
    "    # Hypothesis\n",
    "    h = sigmoid(x_values.dot(theta))\n",
    "    # Algorithm\n",
    "    J = (1/m)*(np.negative(np.log(h).T.dot(y_values))-np.log(1-h).T.dot(1-y_values))\n",
    "    return J"
   ]
  },
  {
   "cell_type": "code",
   "execution_count": 7,
   "metadata": {},
   "outputs": [],
   "source": [
    "def compute_gradient(theta, x_values, y_values):\n",
    "    # Number of training examples\n",
    "    m = len(y_values)\n",
    "    # Hypothesis\n",
    "    h = sigmoid(x_values.dot(theta))\n",
    "    # Algorithm\n",
    "    grad = (1/m)*((h-y_values).T.dot(x_values))\n",
    "    return grad"
   ]
  },
  {
   "cell_type": "code",
   "execution_count": 8,
   "metadata": {},
   "outputs": [
    {
     "name": "stdout",
     "output_type": "stream",
     "text": [
      "Cost: \n",
      " 0.6931471805599452\n",
      "Gradient: \n",
      " [ -0.1        -12.00921659 -11.26284221]\n"
     ]
    }
   ],
   "source": [
    "x_values = np.c_[np.ones(data_set_one.shape[0]), data_set_one[:,:2]]\n",
    "y_values = data_set_one[:, 2]\n",
    "\n",
    "# Use the number of elements in the first row of the x_values array\n",
    "theta = np.transpose(np.zeros(x_values.shape[1]))\n",
    "\n",
    "cost = compute_cost(theta, x_values, y_values)\n",
    "grad = compute_gradient(theta, x_values, y_values,)\n",
    "\n",
    "print('Cost: \\n', cost)\n",
    "print('Gradient: \\n', grad)"
   ]
  },
  {
   "cell_type": "markdown",
   "metadata": {},
   "source": [
    "**Minimization Function**"
   ]
  },
  {
   "cell_type": "code",
   "execution_count": 9,
   "metadata": {},
   "outputs": [
    {
     "name": "stderr",
     "output_type": "stream",
     "text": [
      "/anaconda3/lib/python3.6/site-packages/ipykernel_launcher.py:9: RuntimeWarning: divide by zero encountered in log\n",
      "  if __name__ == '__main__':\n"
     ]
    },
    {
     "data": {
      "text/plain": [
       "      fun: 0.20349770158944375\n",
       " hess_inv: array([[ 3.31474479e+03, -2.63892205e+01, -2.70237122e+01],\n",
       "       [-2.63892205e+01,  2.23869433e-01,  2.02682332e-01],\n",
       "       [-2.70237122e+01,  2.02682332e-01,  2.35335117e-01]])\n",
       "      jac: array([-9.52476824e-09, -9.31921320e-07, -2.82608931e-07])\n",
       "  message: 'Optimization terminated successfully.'\n",
       "     nfev: 31\n",
       "      nit: 23\n",
       "     njev: 31\n",
       "   status: 0\n",
       "  success: True\n",
       "        x: array([-25.16133284,   0.2062317 ,   0.2014716 ])"
      ]
     },
     "execution_count": 9,
     "metadata": {},
     "output_type": "execute_result"
    }
   ],
   "source": [
    "res = minimize(compute_cost, theta, args=(x_values, y_values), method=None, jac=compute_gradient, options={'maxiter':400})\n",
    "res"
   ]
  },
  {
   "cell_type": "markdown",
   "metadata": {},
   "source": [
    "**Predict**"
   ]
  },
  {
   "cell_type": "code",
   "execution_count": 10,
   "metadata": {},
   "outputs": [],
   "source": [
    "def predict(theta, x_values):\n",
    "    return (sigmoid(x_values.dot(theta))>=0.5).astype('int')"
   ]
  },
  {
   "cell_type": "code",
   "execution_count": 11,
   "metadata": {},
   "outputs": [
    {
     "data": {
      "text/plain": [
       "0.7762907240588949"
      ]
     },
     "execution_count": 11,
     "metadata": {},
     "output_type": "execute_result"
    }
   ],
   "source": [
    "# Probability of admission with 45% on exam 1 and 85% on exam 2\n",
    "sigmoid(np.array([1, 45, 85]).dot(res.x))"
   ]
  },
  {
   "cell_type": "code",
   "execution_count": 12,
   "metadata": {},
   "outputs": [
    {
     "data": {
      "text/plain": [
       "1"
      ]
     },
     "execution_count": 12,
     "metadata": {},
     "output_type": "execute_result"
    }
   ],
   "source": [
    "# Prediction of admission\n",
    "predict(res.x, np.array([1, 45, 85]))"
   ]
  },
  {
   "cell_type": "code",
   "execution_count": 13,
   "metadata": {},
   "outputs": [
    {
     "name": "stdout",
     "output_type": "stream",
     "text": [
      "Train Accuracy: 89.0%\n"
     ]
    }
   ],
   "source": [
    "p = predict(res.x, x_values)\n",
    "# Train accuracy\n",
    "print('Train Accuracy: {}%'.format(100*sum(p == y_values.ravel())/p.size))"
   ]
  },
  {
   "cell_type": "code",
   "execution_count": 73,
   "metadata": {},
   "outputs": [
    {
     "data": {
      "image/png": "[encoded data removed]",
      "text/plain": [
       "<Figure size 432x288 with 1 Axes>"
      ]
     },
     "metadata": {},
     "output_type": "display_data"
    }
   ],
   "source": [
    "plot_data(data_set_one, 'Exam Score One', 'Exam Score Two', 'Admitted', 'Rejected')\n",
    "# Plot the decision boundary\n",
    "x1_min, x1_max = x_values[:,1].min(), x_values[:,1].max()\n",
    "x2_min, x2_max = x_values[:,2].min(), x_values[:,2].max()\n",
    "xx1, xx2 = np.meshgrid(np.linspace(x1_min, x1_max), np.linspace(x2_min, x2_max))\n",
    "h = sigmoid(np.c_[np.ones((xx1.ravel().shape[0],1)), xx1.ravel(), xx2.ravel()].dot(res.x))\n",
    "h = h.reshape(xx1.shape)\n",
    "plt.contour(xx1, xx2, h, [0.5], linewidths=1, colors='b')"
   ]
  }
 ],
 "metadata": {
  "kernelspec": {
   "display_name": "Python 3",
   "language": "python",
   "name": "python3"
  },
  "language_info": {
   "codemirror_mode": {
    "name": "ipython",
    "version": 3
   },
   "file_extension": ".py",
   "mimetype": "text/x-python",
   "name": "python",
   "nbconvert_exporter": "python",
   "pygments_lexer": "ipython3",
   "version": "3.6.5"
  }
 },
 "nbformat": 4,
 "nbformat_minor": 2
}
